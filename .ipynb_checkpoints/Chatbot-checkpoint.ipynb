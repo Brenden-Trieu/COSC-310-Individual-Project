{
 "cells": [
  {
   "cell_type": "code",
   "execution_count": 9,
   "metadata": {},
   "outputs": [],
   "source": [
    "import nltk\n",
    "# must run pip install vaderSentiment first in anaconda to run chatbot"
   ]
  },
  {
   "cell_type": "code",
   "execution_count": 1,
   "metadata": {},
   "outputs": [
    {
     "name": "stderr",
     "output_type": "stream",
     "text": [
      "[nltk_data] Downloading package wordnet to C:\\Users\\Brenden\n",
      "[nltk_data]     T\\AppData\\Roaming\\nltk_data...\n",
      "[nltk_data]   Package wordnet is already up-to-date!\n",
      "[nltk_data] Downloading package averaged_perceptron_tagger to\n",
      "[nltk_data]     C:\\Users\\Brenden T\\AppData\\Roaming\\nltk_data...\n",
      "[nltk_data]   Package averaged_perceptron_tagger is already up-to-\n",
      "[nltk_data]       date!\n"
     ]
    },
    {
     "name": "stdout",
     "output_type": "stream",
     "text": [
      "[('hi', 'NN')]\n",
      "[('Hello', 'NN')]\n",
      "[('Can', 'MD'), ('you', 'PRP'), ('translate', 'VB'), ('something', 'NN'), ('for', 'IN'), ('me', 'PRP'), ('?', '.')]\n",
      "[('#', '#'), ('my', 'PRP$'), ('name', 'NN'), ('is', 'VBZ'), ('James', 'NNP')]\n",
      "[(':', ':'), ('books', 'NNS')]\n"
     ]
    }
   ],
   "source": [
    "%run ChatBotWithPyDictionary.py\n",
    "# In console it will print the POS tags for each user input\n",
    "# The notation on package download in needed and in the ChatBot.py file"
   ]
  },
  {
   "cell_type": "code",
   "execution_count": 11,
   "metadata": {},
   "outputs": [
    {
     "name": "stdout",
     "output_type": "stream",
     "text": [
      "Association football, more commonly known as simply football or soccer, is a team sport played with a spherical ball between two teams of 11 players. It is played by approximately 250 million players in over 200 countries and dependencies, making it the world's most popular sport.\n"
     ]
    }
   ],
   "source": [
    "# importing the module\n",
    "import wikipedia\n",
    "\n",
    "# finding result for the search\n",
    "# sentences = 2 refers to numbers of line\n",
    "result = wikipedia.summary(\"soccer\", sentences = 2)\n",
    "\n",
    "# printing the result\n",
    "print(result)\n"
   ]
  },
  {
   "cell_type": "code",
   "execution_count": 12,
   "metadata": {},
   "outputs": [],
   "source": [
    "subject = \"fruit loops\""
   ]
  },
  {
   "cell_type": "code",
   "execution_count": 13,
   "metadata": {},
   "outputs": [
    {
     "name": "stdout",
     "output_type": "stream",
     "text": [
      "FL Studio (until 2003 known as FruityLoops) is a digital audio workstation (DAW) developed by the Belgian company Image-Line.\n",
      "FL Studio features a graphical user interface with a pattern-based music sequencer.\n"
     ]
    }
   ],
   "source": [
    "result = wikipedia.summary(subject, sentences = 2)\n",
    "\n",
    "# printing the result\n",
    "print(result)"
   ]
  },
  {
   "cell_type": "code",
   "execution_count": 14,
   "metadata": {},
   "outputs": [
    {
     "name": "stdout",
     "output_type": "stream",
     "text": [
      "Fruit loops\n"
     ]
    }
   ],
   "source": [
    "test=\": Fruit loops\"\n",
    "temp = test.split(\": \",1)[1]\n",
    "print(temp)"
   ]
  },
  {
   "cell_type": "code",
   "execution_count": 1,
   "metadata": {},
   "outputs": [
    {
     "name": "stdout",
     "output_type": "stream",
     "text": [
      "Detected(lang=ko, confidence=1)\n"
     ]
    }
   ],
   "source": [
    "from googletrans import Translator\n",
    "\n",
    "detector = Translator()\n",
    "\n",
    "dec_lan = detector.detect('이 문장은 한글로 쓰여졌습니다.')\n",
    "\n",
    "print(dec_lan)"
   ]
  },
  {
   "cell_type": "code",
   "execution_count": 14,
   "metadata": {},
   "outputs": [
    {
     "name": "stdout",
     "output_type": "stream",
     "text": [
      "fr\n",
      "en\n",
      "bonjour\n",
      "Hello\n",
      "Hello\n"
     ]
    }
   ],
   "source": [
    "translator = Translator()\n",
    "result = translator.translate('bonjour')\n",
    "print(result.src)\n",
    "print(result.dest)\n",
    "print(result.origin)\n",
    "print(result.text)\n",
    "print(result.pronunciation)"
   ]
  },
  {
   "cell_type": "code",
   "execution_count": 21,
   "metadata": {},
   "outputs": [
    {
     "name": "stdout",
     "output_type": "stream",
     "text": [
      "fi\n",
      "fr\n",
      "Mikä on nimesi\n",
      "Quel est ton nom\n",
      "Quel est ton nom\n",
      "fi\n",
      "fi\n",
      "Mikä on nimesi\n",
      "Mikä on nimesi\n",
      "Mikä on nimesi\n"
     ]
    }
   ],
   "source": [
    "test = \"Mikä on nimesi\"\n",
    "lang = \"fr\"\n",
    "result = translator.translate(test, dest=lang)\n",
    "print(result.src)\n",
    "print(result.dest)\n",
    "print(result.origin)\n",
    "print(result.text)\n",
    "print(result.pronunciation)\n",
    "\n",
    "test = \"Mikä on nimesi\"\n",
    "lang = result.src\n",
    "results = translator.translate(test, dest=lang)\n",
    "print(results.src)\n",
    "print(results.dest)\n",
    "print(results.origin)\n",
    "print(results.text)\n",
    "print(results.pronunciation)"
   ]
  },
  {
   "cell_type": "code",
   "execution_count": null,
   "metadata": {},
   "outputs": [],
   "source": []
  }
 ],
 "metadata": {
  "kernelspec": {
   "display_name": "Python 3",
   "language": "python",
   "name": "python3"
  },
  "language_info": {
   "codemirror_mode": {
    "name": "ipython",
    "version": 3
   },
   "file_extension": ".py",
   "mimetype": "text/x-python",
   "name": "python",
   "nbconvert_exporter": "python",
   "pygments_lexer": "ipython3",
   "version": "3.8.5"
  }
 },
 "nbformat": 4,
 "nbformat_minor": 4
}
