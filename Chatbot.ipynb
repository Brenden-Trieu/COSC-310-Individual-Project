{
 "cells": [
  {
   "cell_type": "code",
   "execution_count": 4,
   "metadata": {},
   "outputs": [
    {
     "ename": "SyntaxError",
     "evalue": "invalid syntax (<ipython-input-4-8d248a5c5d5a>, line 2)",
     "output_type": "error",
     "traceback": [
      "\u001b[1;36m  File \u001b[1;32m\"<ipython-input-4-8d248a5c5d5a>\"\u001b[1;36m, line \u001b[1;32m2\u001b[0m\n\u001b[1;33m    //pip install vaderSentiment\u001b[0m\n\u001b[1;37m    ^\u001b[0m\n\u001b[1;31mSyntaxError\u001b[0m\u001b[1;31m:\u001b[0m invalid syntax\n"
     ]
    }
   ],
   "source": [
    "import nltk\n",
    "# must run pip install vaderSentiment first in anaconda to run chatbot"
   ]
  },
  {
   "cell_type": "code",
   "execution_count": 4,
   "metadata": {},
   "outputs": [
    {
     "name": "stderr",
     "output_type": "stream",
     "text": [
      "[nltk_data] Downloading package wordnet to C:\\Users\\Brenden\n",
      "[nltk_data]     T\\AppData\\Roaming\\nltk_data...\n",
      "[nltk_data]   Package wordnet is already up-to-date!\n",
      "[nltk_data] Downloading package averaged_perceptron_tagger to\n",
      "[nltk_data]     C:\\Users\\Brenden T\\AppData\\Roaming\\nltk_data...\n",
      "[nltk_data]   Package averaged_perceptron_tagger is already up-to-\n",
      "[nltk_data]       date!\n"
     ]
    },
    {
     "name": "stdout",
     "output_type": "stream",
     "text": [
      "[('hi', 'NN')]\n",
      "[('who', 'WP'), ('is', 'VBZ'), ('the', 'DT'), ('best', 'JJS'), ('soccer', 'NN'), ('player', 'NN'), ('ever', 'RB'), ('?', '.')]\n",
      "[('what', 'WP'), ('kind', 'NN'), ('of', 'IN'), ('car', 'NN'), ('do', 'VBP'), ('you', 'PRP'), ('drive', 'VB')]\n",
      "[('what', 'WP'), ('kind', 'NN'), ('of', 'IN'), ('cars', 'NNS'), ('do', 'VBP'), ('you', 'PRP'), ('drive', 'VB')]\n"
     ]
    }
   ],
   "source": [
    "%run ChatBotWithPyDictionary.py\n",
    "# In console it will print the POS tags for each user input\n",
    "# The notation on package download in needed and in the ChatBot.py file"
   ]
  },
  {
   "cell_type": "code",
   "execution_count": null,
   "metadata": {},
   "outputs": [],
   "source": []
  }
 ],
 "metadata": {
  "kernelspec": {
   "display_name": "Python 3",
   "language": "python",
   "name": "python3"
  },
  "language_info": {
   "codemirror_mode": {
    "name": "ipython",
    "version": 3
   },
   "file_extension": ".py",
   "mimetype": "text/x-python",
   "name": "python",
   "nbconvert_exporter": "python",
   "pygments_lexer": "ipython3",
   "version": "3.8.5"
  }
 },
 "nbformat": 4,
 "nbformat_minor": 4
}
